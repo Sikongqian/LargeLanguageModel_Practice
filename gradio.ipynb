{
 "cells": [
  {
   "cell_type": "code",
   "execution_count": null,
   "id": "eba05458-1f8c-4af1-b488-e67068227599",
   "metadata": {},
   "outputs": [],
   "source": [
    "# From https://zhuanlan.zhihu.com/p/679668818"
   ]
  },
  {
   "cell_type": "code",
   "execution_count": null,
   "id": "3d9d6181-3732-4e05-ae83-3e6ad6a136a8",
   "metadata": {},
   "outputs": [],
   "source": [
    "\"\"\"\n",
    "优势，特性\n",
    "开源python库\n",
    "易用性。无需复杂的前端知识，只需几行代码，你就能将任何机器学习模型转化为一个美观、交互式的界面。这不仅使模型展示变得简单，还为非技术背景的人群提供了探索和理解AI的窗口。\n",
    "对于追求深度定制和企业级应用的开发者来说，Gradio同样提供了强大的功能和灵活的配置选项。无论是定制复杂的用户界面，还是在不同的环境中部署你的应用，Gradio都能胜任。\n",
    "广泛应用于数据科学、教育、研究和软件开发领域，尤其适合于快速原型设计、模型验证、演示和教学。\n",
    "\"\"\"\n",
    "\"\"\"\n",
    "热加载支持\n",
    "\n",
    "快速迭代开发：利用热加载特性，使得在开发过程中对代码所做的更改能够即时反映在应用界面上，无需重启应用。这对于调试和快速迭代开发非常有帮助。\n",
    "Jupyter Notebook集成\n",
    "\n",
    "Notebook内交互：Gradio应用可以直接嵌入Jupyter Notebook中，便于在数据科学和机器学习的探索性分析中直接展示和交互。用户可以在Notebook环境中实时演示和测试Gradio应用。\n",
    "共享和展示\n",
    "\n",
    "URL共享：Gradio允许用户通过生成的URL共享他们的应用，这使得在不同设备和环境中的演示和测试变得简单。用户可以通过设置share=True来获取可以公开访问的URL。\n",
    "自定义组件\n",
    "\n",
    "个性化界面设计：用户可以根据特定需求创建自定义的输入输出组件，包括利用HTML、CSS和JavaScript进行定制。这使得应用界面可以高度个性化，更好地满足特定用途。\n",
    "\"\"\""
   ]
  },
  {
   "cell_type": "code",
   "execution_count": 2,
   "id": "e5baf84b-180e-4e84-8e2f-f575df56c5f9",
   "metadata": {},
   "outputs": [
    {
     "name": "stdout",
     "output_type": "stream",
     "text": [
      "4.19.2\n"
     ]
    }
   ],
   "source": [
    "# 检查安装\n",
    "import gradio as gr\n",
    "print(gr.__version__)"
   ]
  },
  {
   "cell_type": "code",
   "execution_count": null,
   "id": "9c1dd038-2e15-4e72-a7fd-9c081d7ca83c",
   "metadata": {},
   "outputs": [],
   "source": [
    "\"\"\"\n",
    "核心组件\n",
    "界面（interface）：Gradio的核心是Interface类，它允许用户定义输入和输出类型，创建交互式的Web界面。\n",
    "输入类型：Gradio支持多种输入类型，如gr.Text用于文本输入，gr.Image用于图像上传，gr.Audio用于音频输入等。\n",
    "输出类型：输出类型与输入类型相对应，包括gr.Text、gr.Image和gr.Audio等，用于展示模型的输出结果。\n",
    "\"\"\""
   ]
  },
  {
   "cell_type": "code",
   "execution_count": 3,
   "id": "40b101c4-c5fb-4cc9-a27f-08716a62e3e7",
   "metadata": {
    "scrolled": true
   },
   "outputs": [
    {
     "name": "stdout",
     "output_type": "stream",
     "text": [
      "Running on local URL:  http://127.0.0.1:7860\n",
      "\n",
      "To create a public link, set `share=True` in `launch()`.\n"
     ]
    },
    {
     "data": {
      "text/html": [
       "<div><iframe src=\"http://127.0.0.1:7860/\" width=\"100%\" height=\"500\" allow=\"autoplay; camera; microphone; clipboard-read; clipboard-write;\" frameborder=\"0\" allowfullscreen></iframe></div>"
      ],
      "text/plain": [
       "<IPython.core.display.HTML object>"
      ]
     },
     "metadata": {},
     "output_type": "display_data"
    },
    {
     "data": {
      "text/plain": []
     },
     "execution_count": 3,
     "metadata": {},
     "output_type": "execute_result"
    }
   ],
   "source": [
    "# 创建界面\n",
    "import gradio as gr\n",
    "\n",
    "# 回调函数，处理输入并生成输出\n",
    "def greet(name):\n",
    "    return \"Hello \" + name\n",
    "iface = gr.Interface(fn=greet, inputs=gr.Textbox(),outputs=gr.Textbox())\n",
    "iface.launch()"
   ]
  },
  {
   "cell_type": "code",
   "execution_count": 5,
   "id": "71ad188f-7d19-45ac-b5f1-5eac4836c42a",
   "metadata": {},
   "outputs": [
    {
     "name": "stdout",
     "output_type": "stream",
     "text": [
      "Running on local URL:  http://127.0.0.1:7861\n",
      "\n",
      "To create a public link, set `share=True` in `launch()`.\n"
     ]
    },
    {
     "data": {
      "text/html": [
       "<div><iframe src=\"http://127.0.0.1:7861/\" width=\"100%\" height=\"500\" allow=\"autoplay; camera; microphone; clipboard-read; clipboard-write;\" frameborder=\"0\" allowfullscreen></iframe></div>"
      ],
      "text/plain": [
       "<IPython.core.display.HTML object>"
      ]
     },
     "metadata": {},
     "output_type": "display_data"
    },
    {
     "data": {
      "text/plain": []
     },
     "execution_count": 5,
     "metadata": {},
     "output_type": "execute_result"
    }
   ],
   "source": [
    "# 界面定制，interface有很多属性\n",
    "iface = gr.Interface(\n",
    "    fn=greet,\n",
    "    inputs=gr.Textbox(),outputs=gr.Textbox(),\n",
    "    title=\"简单问候\",\n",
    "    description=\"输入你的名字 获得个性化问候\"\n",
    ")\n",
    "iface.launch()"
   ]
  },
  {
   "cell_type": "code",
   "execution_count": 6,
   "id": "c90d3c7c-4b97-4dac-a9bb-1f846ca37c7e",
   "metadata": {},
   "outputs": [
    {
     "name": "stdout",
     "output_type": "stream",
     "text": [
      "Running on local URL:  http://127.0.0.1:7862\n",
      "\n",
      "To create a public link, set `share=True` in `launch()`.\n"
     ]
    },
    {
     "data": {
      "text/html": [
       "<div><iframe src=\"http://127.0.0.1:7862/\" width=\"100%\" height=\"500\" allow=\"autoplay; camera; microphone; clipboard-read; clipboard-write;\" frameborder=\"0\" allowfullscreen></iframe></div>"
      ],
      "text/plain": [
       "<IPython.core.display.HTML object>"
      ]
     },
     "metadata": {},
     "output_type": "display_data"
    },
    {
     "data": {
      "text/plain": []
     },
     "execution_count": 6,
     "metadata": {},
     "output_type": "execute_result"
    }
   ],
   "source": [
    "# 界面元素介绍\n",
    "\n",
    "# 输入组件 inputs\n",
    "\"\"\"\n",
    "Audio：允许用户上传音频文件或直接录音。参数：source: 指定音频来源（如麦克风）、type: 指定返回类型。 示例：gr.Audio(source=\"microphone\", type=\"filepath\")\n",
    "Checkbox：提供复选框，用于布尔值输入。参数：label: 显示在复选框旁边的文本标签。 示例：gr.Checkbox(label=\"同意条款\")\n",
    "CheckboxGroup：允许用户从一组选项中选择多个。参数：choices: 字符串数组，表示复选框的选项、label: 标签文本。示例：gr.CheckboxGroup([\"选项1\", \"选项2\", \"选项3\"], label=\"选择你的兴趣\")\n",
    "ColorPicker：用于选择颜色，通常返回十六进制颜色代码。参数：default: 默认颜色值。示例：gr.ColorPicker(default=\"#ff0000\")\n",
    "Dataframe：允许用户上传CSV文件或输入DataFrame。参数：headers: 列标题数组、row_count: 初始显示的行数。示例：gr.Dataframe(headers=[\"列1\", \"列2\"], row_count=5)\n",
    "Dropdown：下拉菜单，用户可以从中选择一个选项。参数：choices: 字符串数组，表示下拉菜单的选项、label: 标签文本。示例：gr.Dropdown([\"选项1\", \"选项2\", \"选项3\"], label=\"选择一个选项\")\n",
    "File：用于上传任意文件，支持多种文件格式。参数：file_count: 允许上传的文件数量，如\"single\"或\"multiple\"、type: 返回的数据类型，如\"file\"或\"auto\"。示例：gr.File(file_count=\"single\", type=\"file\")\n",
    "Image：用于上传图片，支持多种图像格式。参数：type图像类型，如pil。示例：gr.Image(type='pil')\n",
    "Number：数字输入框，适用于整数和浮点数。参数：default: 默认数字、label: 标签文本。示例：gr.Number(default=0, label=\"输入一个数字\")\n",
    "Radio：单选按钮组，用户从中选择一个选项。参数：choices: 字符串数组，表示单选按钮的选项、label: 标签文本。示例：gr.Radio([\"选项1\", \"选项2\", \"选项3\"], label=\"选择一个选项\")\n",
    "Slider：滑动条，用于选择一定范围内的数值。参数：minimum: 最小值、maximum: 最大值、step: 步长、label: 标签文本。示例：gr.Slider(minimum=0, maximum=10, step=1, label=\"调整数值\")\n",
    "Textbox：单行文本输入框，适用于简短文本。参数：default: 默认文本、placeholder: 占位符文本。示例：gr.Textbox(default=\"默认文本\", placeholder=\"输入文本\")\n",
    "Textarea：多行文本输入区域，适合较长的文本输入。参数：lines: 显示行数、placeholder: 占位符文本。示例：gr.Textarea(lines=4, placeholder=\"输入长文本\")\n",
    "Time：用于输入时间。参数：label: 标签文本。示例：gr.Time(label=\"选择时间\")\n",
    "Video：视频上传组件，支持多种视频格式。参数：label: 标签文本。示例：gr.Video(label=\"上传视频\")\n",
    "Data：用于上传二进制数据，例如图像或音频的原始字节。参数：type: 数据类型，如\"auto\"自动推断。示例：gr.Data(type=\"auto\", label=\"上传数据\")\n",
    "\"\"\"\n",
    "# 输出组件 outputs\n",
    "\"\"\"\n",
    "Audio：播放音频文件。参数：type 指定输出格式。示例：gr.Audio(type=\"auto\")\n",
    "Carousel：以轮播方式展示多个输出，适用于图像集或多个数据点。参数：item_type 设置轮播项目类型。示例：gr.Carousel(item_type=\"image\")\n",
    "Dataframe：展示Pandas DataFrame，适用于表格数据。参数：type 指定返回的DataFrame类型。示例：gr.Dataframe(type=\"pandas\")\n",
    "Gallery：以画廊形式展示一系列图像。\n",
    "HTML：展示HTML内容，适用于富文本或网页布局。\n",
    "Image：展示图像。参数：type 指定图像格式。 示例：gr.Image(type=\"pil\")\n",
    "JSON：以JSON格式展示数据，便于查看结构化数据。\n",
    "KeyValues：以键值对形式展示数据。\n",
    "Label：展示文本标签，适用于简单的文本输出。\n",
    "Markdown：支持Markdown格式的文本展示。\n",
    "Plot：展示图表，如matplotlib生成的图表。\n",
    "Text：用于显示文本，适合较长的输出。\n",
    "Video：播放视频文件。\n",
    "\"\"\"\n",
    "import gradio as gr\n",
    "\n",
    "def greet(name):\n",
    "    return f\"Hello, {name}!\"\n",
    "\n",
    "iface = gr.Interface(\n",
    "    fn=greet,\n",
    "    inputs=gr.Textbox(label=\"Your Name\"),# 标签输出\n",
    "    outputs=gr.Label()\n",
    ")\n",
    "iface.launch()\n"
   ]
  },
  {
   "cell_type": "code",
   "execution_count": 7,
   "id": "0697119b-1886-4db2-80df-d4cd7776e022",
   "metadata": {},
   "outputs": [
    {
     "name": "stdout",
     "output_type": "stream",
     "text": [
      "Running on local URL:  http://127.0.0.1:7863\n",
      "\n",
      "To create a public link, set `share=True` in `launch()`.\n"
     ]
    },
    {
     "data": {
      "text/html": [
       "<div><iframe src=\"http://127.0.0.1:7863/\" width=\"100%\" height=\"500\" allow=\"autoplay; camera; microphone; clipboard-read; clipboard-write;\" frameborder=\"0\" allowfullscreen></iframe></div>"
      ],
      "text/plain": [
       "<IPython.core.display.HTML object>"
      ]
     },
     "metadata": {},
     "output_type": "display_data"
    },
    {
     "data": {
      "text/plain": []
     },
     "execution_count": 7,
     "metadata": {},
     "output_type": "execute_result"
    }
   ],
   "source": [
    "# 多样化处理输入输出\n",
    "\n",
    "# 输入\n",
    "# 不同组件的组合，类型选择，自定义输入设置\n",
    "\n",
    "# 输出\n",
    "# 展示多样化输出，输出类型选择，增强输出可视化\n",
    "\n",
    "#例子\n",
    "import gradio as gr\n",
    "\n",
    "def process_data(text, image):\n",
    "    # 假设这里有数据处理逻辑\n",
    "    processed_text = text.upper()\n",
    "    return processed_text, image\n",
    "\n",
    "iface = gr.Interface(\n",
    "    fn=process_data,\n",
    "    inputs=[gr.Textbox(label=\"输入文本\"), gr.Image(label=\"上传图片\")],\n",
    "    outputs=[gr.Text(label=\"处理后的文本\"), gr.Image(label=\"原始图片\")]\n",
    ")\n",
    "iface.launch()"
   ]
  },
  {
   "cell_type": "code",
   "execution_count": 8,
   "id": "74e14322-ecdc-4c93-9615-cc88b0ed3a6d",
   "metadata": {},
   "outputs": [],
   "source": [
    "# 界面定制"
   ]
  },
  {
   "cell_type": "code",
   "execution_count": 9,
   "id": "be860933-4d40-41f1-a65d-bc3aa04819d3",
   "metadata": {},
   "outputs": [
    {
     "name": "stderr",
     "output_type": "stream",
     "text": [
      "D:\\pythondevelop\\anaconda3\\envs\\LightGCL\\lib\\site-packages\\gradio\\blocks.py:525: UserWarning: Cannot load dark. Caught Exception: 404 Client Error: Not Found for url: https://huggingface.co/api/spaces/dark (Request ID: Root=1-65e1528a-74eeacdc30c51d086394bd10;414f1bae-069b-458b-80fd-7519e1424043)\n",
      "\n",
      "Sorry, we can't find the page you are looking for.\n",
      "  warnings.warn(f\"Cannot load {theme}. Caught Exception: {str(e)}\")\n"
     ]
    },
    {
     "name": "stdout",
     "output_type": "stream",
     "text": [
      "Running on local URL:  http://127.0.0.1:7864\n",
      "\n",
      "To create a public link, set `share=True` in `launch()`.\n"
     ]
    },
    {
     "data": {
      "text/html": [
       "<div><iframe src=\"http://127.0.0.1:7864/\" width=\"100%\" height=\"500\" allow=\"autoplay; camera; microphone; clipboard-read; clipboard-write;\" frameborder=\"0\" allowfullscreen></iframe></div>"
      ],
      "text/plain": [
       "<IPython.core.display.HTML object>"
      ]
     },
     "metadata": {},
     "output_type": "display_data"
    },
    {
     "data": {
      "text/plain": []
     },
     "execution_count": 9,
     "metadata": {},
     "output_type": "execute_result"
    }
   ],
   "source": [
    "\"\"\"\n",
    "自定义布局\n",
    "\n",
    "组合布局：在Gradio中，你可以灵活地组合不同的输入和输出组件。\n",
    "* 示例：创建一个界面，其中包括文本输入、图片上传和按钮，以实现不同功能的模块化布局。\n",
    "调整元素排列：利用布局参数调整元素的排列方式。\n",
    "* 示例：使用layout=\"grouped\"或layout=\"stacked\"来更改组件的排列方式，使界面更加紧凑或分散。\n",
    "定制样式\n",
    "\n",
    "更改界面风格：使用CSS样式来定制界面的外观。\n",
    "* 示例：添加CSS代码来更改按钮的颜色、字体的大小或元素的边距。\n",
    "使用主题：Gradio提供了内置的主题选项，可用于快速更改界面风格。\n",
    "* 示例：使用theme=\"dark\"或theme=\"huggingface\"来应用暗色主题或Hugging Face风格。\n",
    "响应式设计\n",
    "\n",
    "适配不同屏幕大小：确保你的Gradio界面在不同设备上均有良好的显示效果。\n",
    "* 示例：测试在手机、平板和电脑上的显示情况，调整布局以适应不同屏幕。\n",
    "界面元素的适配性：调整输入输出组件的大小和排列，使其适应不同的显示环境。\n",
    "* 示例：为小屏幕减少边距和间距，或在大屏幕上增加额外的空间\n",
    "\"\"\"\n",
    "\n",
    "import gradio as gr\n",
    "\n",
    "def process_data(text):\n",
    "    return text.upper()\n",
    "\n",
    "css = \".input_text { color: blue; } .output_text { font-weight: bold; }\"\n",
    "\n",
    "iface = gr.Interface(\n",
    "    fn=process_data,\n",
    "    inputs=gr.Textbox(lines=2, placeholder=\"输入文本\"),\n",
    "    outputs=\"text\",\n",
    "    css=css,\n",
    "    theme=\"dark\"\n",
    ")\n",
    "iface.launch()"
   ]
  },
  {
   "cell_type": "code",
   "execution_count": null,
   "id": "305e8df9-4cef-4608-b936-bfd3ae7dc9e6",
   "metadata": {},
   "outputs": [],
   "source": [
    "# 与预训练模型结合"
   ]
  },
  {
   "cell_type": "code",
   "execution_count": 10,
   "id": "db8e1036-d4bb-414e-8144-1ff2049360a3",
   "metadata": {},
   "outputs": [
    {
     "name": "stderr",
     "output_type": "stream",
     "text": [
      "No model was supplied, defaulted to google/vit-base-patch16-224 and revision 5dca96d (https://huggingface.co/google/vit-base-patch16-224).\n",
      "Using a pipeline without specifying a model name and revision in production is not recommended.\n"
     ]
    },
    {
     "data": {
      "application/vnd.jupyter.widget-view+json": {
       "model_id": "c439bb6cf232406581edd598904c2eb9",
       "version_major": 2,
       "version_minor": 0
      },
      "text/plain": [
       "config.json:   0%|          | 0.00/69.7k [00:00<?, ?B/s]"
      ]
     },
     "metadata": {},
     "output_type": "display_data"
    },
    {
     "name": "stderr",
     "output_type": "stream",
     "text": [
      "D:\\pythondevelop\\anaconda3\\envs\\LightGCL\\lib\\site-packages\\huggingface_hub\\file_download.py:147: UserWarning: `huggingface_hub` cache-system uses symlinks by default to efficiently store duplicated files but your machine does not support them in C:\\Users\\王骞\\.cache\\huggingface\\hub. Caching files will still work but in a degraded version that might require more space on your disk. This warning can be disabled by setting the `HF_HUB_DISABLE_SYMLINKS_WARNING` environment variable. For more details, see https://huggingface.co/docs/huggingface_hub/how-to-cache#limitations.\n",
      "To support symlinks on Windows, you either need to activate Developer Mode or to run Python as an administrator. In order to see activate developer mode, see this article: https://docs.microsoft.com/en-us/windows/apps/get-started/enable-your-device-for-development\n",
      "  warnings.warn(message)\n"
     ]
    },
    {
     "data": {
      "application/vnd.jupyter.widget-view+json": {
       "model_id": "885befdde57644ee90f77949c2ea6e50",
       "version_major": 2,
       "version_minor": 0
      },
      "text/plain": [
       "model.safetensors:   0%|          | 0.00/346M [00:00<?, ?B/s]"
      ]
     },
     "metadata": {},
     "output_type": "display_data"
    },
    {
     "data": {
      "application/vnd.jupyter.widget-view+json": {
       "model_id": "19cdbed858d14f6d8ba015aa202831f5",
       "version_major": 2,
       "version_minor": 0
      },
      "text/plain": [
       "preprocessor_config.json:   0%|          | 0.00/160 [00:00<?, ?B/s]"
      ]
     },
     "metadata": {},
     "output_type": "display_data"
    },
    {
     "name": "stdout",
     "output_type": "stream",
     "text": [
      "Running on local URL:  http://127.0.0.1:7865\n",
      "\n",
      "To create a public link, set `share=True` in `launch()`.\n"
     ]
    },
    {
     "data": {
      "text/html": [
       "<div><iframe src=\"http://127.0.0.1:7865/\" width=\"100%\" height=\"500\" allow=\"autoplay; camera; microphone; clipboard-read; clipboard-write;\" frameborder=\"0\" allowfullscreen></iframe></div>"
      ],
      "text/plain": [
       "<IPython.core.display.HTML object>"
      ]
     },
     "metadata": {},
     "output_type": "display_data"
    },
    {
     "data": {
      "text/plain": []
     },
     "execution_count": 10,
     "metadata": {},
     "output_type": "execute_result"
    }
   ],
   "source": [
    "\"\"\"\n",
    "选择合适的预训练模型\n",
    "\n",
    "模型源：选择适合你需求的预训练模型。常见的来源包括TensorFlow Hub、PyTorch Hub或Hugging Face模型库。\n",
    "模型类型：确定你的应用场景，如图像识别、文本生成或语音处理，然后选择相应类型的模型。\n",
    "集成模型到Gradio应用\n",
    "\n",
    "加载模型：根据所选模型的文档加载模型。这通常涉及导入相应的库并加载预训练权重。\n",
    "创建处理函数：编写一个处理函数，该函数接收Gradio输入，并使用模型进行预测或处理，然后返回输出。\n",
    "构建Gradio界面：根据模型的输入输出类型，选择合适的Gradio输入输出组件。然后将处理函数绑定到Gradio界面。\n",
    "\"\"\"\n",
    "import gradio as gr\n",
    "from transformers import pipeline\n",
    "\n",
    "# 加载预训练模型\n",
    "model = pipeline('image-classification')\n",
    "\n",
    "# 定义处理函数\n",
    "def classify_image(img):\n",
    "    return {i['label']: i['score'] for i in model(img)}\n",
    "\n",
    "# 创建Gradio界面\n",
    "iface = gr.Interface(\n",
    "    fn=classify_image,\n",
    "    inputs=gr.Image(type=\"pil\"),\n",
    "    outputs=gr.Label(num_top_classes=5))\n",
    "iface.launch()"
   ]
  },
  {
   "cell_type": "code",
   "execution_count": null,
   "id": "19878cba-b0a8-498f-93bd-dff33e317484",
   "metadata": {},
   "outputs": [],
   "source": [
    "# 动态界面实时反馈"
   ]
  },
  {
   "cell_type": "code",
   "execution_count": null,
   "id": "7686f326-3867-4481-a304-1978667c8dc9",
   "metadata": {},
   "outputs": [],
   "source": [
    "\"\"\"\n",
    "实现动态界面\n",
    "\n",
    "条件显示组件：使用Gradio的内置功能来根据用户输入动态显示或隐藏某些组件。\n",
    "* 示例：根据用户选择的选项，显示不同的输入字段。\n",
    "界面元素更新：根据用户的交互实时更新界面元素。\n",
    "* 示例：用户上传图片后，立即在界面上显示预览。\n",
    "\n",
    "\n",
    "提供实时反馈\n",
    "\n",
    "即时处理与展示结果：设计应用逻辑，使其能够快速响应用户输入并展示结果。\n",
    "* 示例：用户输入文本后，立即显示文本分析结果。\n",
    "使用状态管理：利用状态管理来保存和更新用户交互的状态。\n",
    "* 示例：记录用户的选择或输入，以便在整个会话中使用。\n",
    "\"\"\""
   ]
  },
  {
   "cell_type": "code",
   "execution_count": null,
   "id": "80cf7c72-8b81-44aa-8797-01ff9cb7ba67",
   "metadata": {},
   "outputs": [],
   "source": [
    "import gradio as gr\n",
    "\n",
    "def process_image(img, filter_type):\n",
    "    if filter_type == \"Black and White\":\n",
    "        img = img.convert(\"L\")\n",
    "    return img\n",
    "\n",
    "iface = gr.Interface(\n",
    "    fn=process_image,\n",
    "    #单选按钮是动态组件，可以很好的实现动态反馈\n",
    "    inputs=[gr.Image(type=\"pil\"), gr.Radio([\"None\", \"Black and White\"])],\n",
    "    outputs=\"image\"\n",
    ")\n",
    "iface.launch()"
   ]
  },
  {
   "cell_type": "code",
   "execution_count": null,
   "id": "1b919d1a-e609-41af-ad46-82fc6d024312",
   "metadata": {},
   "outputs": [],
   "source": [
    "# 4 高级功能"
   ]
  },
  {
   "cell_type": "code",
   "execution_count": null,
   "id": "9ca1a07f-ee4a-45ac-9406-035a4bebdb46",
   "metadata": {},
   "outputs": [],
   "source": [
    "# 构建复杂界面"
   ]
  },
  {
   "cell_type": "code",
   "execution_count": 12,
   "id": "800c8c45-8253-4fc6-9baf-7a759d743378",
   "metadata": {},
   "outputs": [
    {
     "name": "stdout",
     "output_type": "stream",
     "text": [
      "Running on local URL:  http://127.0.0.1:7867\n",
      "\n",
      "To create a public link, set `share=True` in `launch()`.\n"
     ]
    },
    {
     "data": {
      "text/html": [
       "<div><iframe src=\"http://127.0.0.1:7867/\" width=\"100%\" height=\"500\" allow=\"autoplay; camera; microphone; clipboard-read; clipboard-write;\" frameborder=\"0\" allowfullscreen></iframe></div>"
      ],
      "text/plain": [
       "<IPython.core.display.HTML object>"
      ]
     },
     "metadata": {},
     "output_type": "display_data"
    }
   ],
   "source": [
    "# chatInterface \n",
    "# 构建类似聊天应用，适用于构建聊天机器人或其他文本式交互应用\n",
    "import gradio as gr\n",
    "import time\n",
    "\n",
    "def slow_echo(message, history):\n",
    "    for i in range(len(message)):\n",
    "        time.sleep(0.05)\n",
    "        yield \"机器人回复：\"+ message[: i+1]\n",
    "\n",
    "demo = gr.ChatInterface(slow_echo).queue()\n",
    "\n",
    "if __name__ == \"__main__\":\n",
    "    demo.launch()"
   ]
  },
  {
   "cell_type": "code",
   "execution_count": 13,
   "id": "84de9707-acac-4861-a394-529fa6b5790f",
   "metadata": {},
   "outputs": [
    {
     "name": "stdout",
     "output_type": "stream",
     "text": [
      "Running on local URL:  http://127.0.0.1:7868\n",
      "\n",
      "To create a public link, set `share=True` in `launch()`.\n"
     ]
    },
    {
     "data": {
      "text/html": [
       "<div><iframe src=\"http://127.0.0.1:7868/\" width=\"100%\" height=\"500\" allow=\"autoplay; camera; microphone; clipboard-read; clipboard-write;\" frameborder=\"0\" allowfullscreen></iframe></div>"
      ],
      "text/plain": [
       "<IPython.core.display.HTML object>"
      ]
     },
     "metadata": {},
     "output_type": "display_data"
    },
    {
     "data": {
      "text/plain": []
     },
     "execution_count": 13,
     "metadata": {},
     "output_type": "execute_result"
    }
   ],
   "source": [
    "# TabbedInterface\n",
    "import gradio as gr\n",
    "\n",
    "def function1(input1):\n",
    "    return f\"处理结果: {input1}\"\n",
    "\n",
    "def function2(input2):\n",
    "    return f\"分析结果: {input2}\"\n",
    "\n",
    "iface1 = gr.Interface(function1, \"text\", \"text\")\n",
    "iface2 = gr.Interface(function2, \"text\", \"text\")\n",
    "\n",
    "tabbed_interface = gr.TabbedInterface([iface1, iface2], [\"界面1\", \"界面2\"])\n",
    "tabbed_interface.launch()"
   ]
  },
  {
   "cell_type": "code",
   "execution_count": 14,
   "id": "5bdce3e6-f2a1-452f-ab47-78af76881381",
   "metadata": {},
   "outputs": [
    {
     "name": "stdout",
     "output_type": "stream",
     "text": [
      "Running on local URL:  http://127.0.0.1:7869\n",
      "\n",
      "To create a public link, set `share=True` in `launch()`.\n"
     ]
    },
    {
     "data": {
      "text/html": [
       "<div><iframe src=\"http://127.0.0.1:7869/\" width=\"100%\" height=\"500\" allow=\"autoplay; camera; microphone; clipboard-read; clipboard-write;\" frameborder=\"0\" allowfullscreen></iframe></div>"
      ],
      "text/plain": [
       "<IPython.core.display.HTML object>"
      ]
     },
     "metadata": {},
     "output_type": "display_data"
    },
    {
     "data": {
      "text/plain": []
     },
     "execution_count": 14,
     "metadata": {},
     "output_type": "execute_result"
    }
   ],
   "source": [
    "# blocks 进行自定义布局\n",
    "\"\"\"\n",
    "布局组件：Row, Column, Tab, Group, Accordion\n",
    "\n",
    "Row和Column：分别用于创建水平行和垂直列的布局。\n",
    "* 示例：使用Row来水平排列几个按钮，使用Column来垂直排列一系列输入组件。\n",
    "Tab：用于在TabbedInterface中创建各个标签页。\n",
    "* 示例：在一个应用中创建多个Tab，每个标签页包含特定主题的内容。\n",
    "Group：将多个组件组合成一个组，便于统一管理和布局。\n",
    "* 示例：创建一个包含多个相关输入组件的Group。\n",
    "Accordion：创建可以展开和折叠的面板，用于管理空间和改善界面的可用性。\n",
    "* 示例：将不常用的选项放入Accordion中，以减少界面的拥挤。\n",
    "\"\"\"\n",
    "# 使用Blocks及Row、Column实现自定义布局\n",
    "import gradio as gr\n",
    "\n",
    "with gr.Blocks() as demo:\n",
    "    with gr.Row():\n",
    "        with gr.Column():\n",
    "            input_text = gr.Textbox(label=\"输入\")\n",
    "            submit_button = gr.Button(\"提交\")\n",
    "        with gr.Column():\n",
    "            output_text = gr.Label(label=\"输出\")\n",
    "\n",
    "    submit_button.click(fn=lambda x: f\"你输入了: {x}\", inputs=input_text, outputs=output_text)\n",
    "\n",
    "demo.launch() "
   ]
  },
  {
   "cell_type": "code",
   "execution_count": 15,
   "id": "5ddf0597-bba0-4523-809b-88b4f3d91937",
   "metadata": {},
   "outputs": [
    {
     "name": "stdout",
     "output_type": "stream",
     "text": [
      "Running on local URL:  http://127.0.0.1:7870\n",
      "\n",
      "To create a public link, set `share=True` in `launch()`.\n"
     ]
    },
    {
     "data": {
      "text/html": [
       "<div><iframe src=\"http://127.0.0.1:7870/\" width=\"100%\" height=\"500\" allow=\"autoplay; camera; microphone; clipboard-read; clipboard-write;\" frameborder=\"0\" allowfullscreen></iframe></div>"
      ],
      "text/plain": [
       "<IPython.core.display.HTML object>"
      ]
     },
     "metadata": {},
     "output_type": "display_data"
    },
    {
     "data": {
      "text/plain": []
     },
     "execution_count": 15,
     "metadata": {},
     "output_type": "execute_result"
    }
   ],
   "source": [
    "# 使用Group和Accordion组织组件\n",
    "import gradio as gr\n",
    "\n",
    "with gr.Blocks() as demo:\n",
    "    with gr.Group():\n",
    "        input1 = gr.Textbox()\n",
    "        input2 = gr.Slider()\n",
    "    with gr.Accordion(\"详细设置\"):\n",
    "        checkbox = gr.Checkbox(label=\"选项\")\n",
    "        dropdown = gr.Dropdown(choices=[\"选项1\", \"选项2\"])\n",
    "\n",
    "    submit_button = gr.Button(\"提交\")\n",
    "    output_label = gr.Label()\n",
    "\n",
    "    submit_button.click(fn=lambda x, y, z: f\"{x}, {y}, {z}\", inputs=[input1, input2, checkbox], outputs=output_label)\n",
    "\n",
    "demo.launch() "
   ]
  },
  {
   "cell_type": "code",
   "execution_count": 16,
   "id": "d27fb411-2856-4439-a661-f3b856fee7b9",
   "metadata": {},
   "outputs": [
    {
     "name": "stdout",
     "output_type": "stream",
     "text": [
      "Running on local URL:  http://127.0.0.1:7871\n",
      "\n",
      "To create a public link, set `share=True` in `launch()`.\n"
     ]
    },
    {
     "data": {
      "text/html": [
       "<div><iframe src=\"http://127.0.0.1:7871/\" width=\"100%\" height=\"500\" allow=\"autoplay; camera; microphone; clipboard-read; clipboard-write;\" frameborder=\"0\" allowfullscreen></iframe></div>"
      ],
      "text/plain": [
       "<IPython.core.display.HTML object>"
      ]
     },
     "metadata": {},
     "output_type": "display_data"
    },
    {
     "data": {
      "text/plain": []
     },
     "execution_count": 16,
     "metadata": {},
     "output_type": "execute_result"
    }
   ],
   "source": [
    "# 构建复杂界面\n",
    "\"\"\"组合多种组件\n",
    "\n",
    "多输入多输出界面：结合多种输入和输出组件，以处理复杂的数据类型和格式。\n",
    "* 示例：创建一个界面，包含文本输入、图像上传、滑动条等多种输入类型，并同时展示文本、图表、图片等多种输出。\n",
    "复杂的数据处理：设计能够处理多种输入并产生多种输出的复杂函数。\n",
    "* 示例：一个接收文本和图像作为输入，同时输出文本分析结果和图像处理结果的应用。\n",
    "高级布局技巧\n",
    "\n",
    "自定义布局：使用CSS和HTML自定义界面布局，以适应特定的视觉设计和用户体验需求。\n",
    "* 示例：利用CSS调整组件的大小、间距和颜色，或使用HTML布局元素。\n",
    "响应式设计：确保界面在不同设备和屏幕尺寸上保持良好的可用性和视觉效果。\n",
    "* 示例：调整布局以适应手机和平板屏幕，确保元素在小屏幕上也易于操作。\n",
    "复杂交互实现\n",
    "\n",
    "状态管理和动态更新：利用Gradio的状态管理功能来保存用户交互的状态，并根据状态动态更新界面。\n",
    "* 示例：根据用户先前的选择或输入来调整后续展示的选项和结果。\n",
    "集成外部资源和API：将Gradio界面与外部资源或API集成，以实现更复杂的功能。\n",
    "* 示例：集成外部数据源，如数据库或API，以实时获取和展示数据。\n",
    "组合多种组件\n",
    "\n",
    "多输入多输出界面：结合多种输入和输出组件，以处理复杂的数据类型和格式。\n",
    "* 示例：创建一个界面，包含文本输入、图像上传、滑动条等多种输入类型，并同时展示文本、图表、图片等多种输出。\n",
    "复杂的数据处理：设计能够处理多种输入并产生多种输出的复杂函数。\n",
    "* 示例：一个接收文本和图像作为输入，同时输出文本分析结果和图像处理结果的应用。\n",
    "高级布局技巧\n",
    "\n",
    "自定义布局：使用CSS和HTML自定义界面布局，以适应特定的视觉设计和用户体验需求。\n",
    "* 示例：利用CSS调整组件的大小、间距和颜色，或使用HTML布局元素。\n",
    "响应式设计：确保界面在不同设备和屏幕尺寸上保持良好的可用性和视觉效果。\n",
    "* 示例：调整布局以适应手机和平板屏幕，确保元素在小屏幕上也易于操作。\n",
    "复杂交互实现\n",
    "\n",
    "状态管理和动态更新：利用Gradio的状态管理功能来保存用户交互的状态，并根据状态动态更新界面。\n",
    "* 示例：根据用户先前的选择或输入来调整后续展示的选项和结果。\n",
    "集成外部资源和API：将Gradio界面与外部资源或API集成，以实现更复杂的功能。\n",
    "* 示例：集成外部数据源，如数据库或API，以实时获取和展示数据。\n",
    "\"\"\"\n",
    "\n",
    "# 例子\n",
    "import gradio as gr\n",
    "\n",
    "def complex_analysis(text, image, threshold):\n",
    "    text = \"我的回复:\" + text\n",
    "    return text, ~image + threshold\n",
    "\n",
    "iface = gr.Interface(\n",
    "    fn=complex_analysis,\n",
    "    inputs=[\n",
    "        gr.Textbox(lines=2, placeholder=\"输入文本\"),\n",
    "        gr.Image(type=\"numpy\"),\n",
    "        gr.Slider(minimum=0, maximum=100)\n",
    "    ],\n",
    "    outputs=[\n",
    "        \"text\",\n",
    "        \"image\"\n",
    "    ]\n",
    ")\n",
    "iface.launch() "
   ]
  },
  {
   "cell_type": "code",
   "execution_count": 17,
   "id": "a91fb7bc-5d72-4961-8917-6b28f523a07b",
   "metadata": {},
   "outputs": [
    {
     "ename": "ModuleNotFoundError",
     "evalue": "No module named 'plotly'",
     "output_type": "error",
     "traceback": [
      "\u001b[1;31m---------------------------------------------------------------------------\u001b[0m",
      "\u001b[1;31mModuleNotFoundError\u001b[0m                       Traceback (most recent call last)",
      "Cell \u001b[1;32mIn[17], line 4\u001b[0m\n\u001b[0;32m      2\u001b[0m \u001b[38;5;28;01mimport\u001b[39;00m \u001b[38;5;21;01mgradio\u001b[39;00m \u001b[38;5;28;01mas\u001b[39;00m \u001b[38;5;21;01mgr\u001b[39;00m\n\u001b[0;32m      3\u001b[0m \u001b[38;5;28;01mimport\u001b[39;00m \u001b[38;5;21;01mpandas\u001b[39;00m \u001b[38;5;28;01mas\u001b[39;00m \u001b[38;5;21;01mpd\u001b[39;00m\n\u001b[1;32m----> 4\u001b[0m \u001b[38;5;28;01mimport\u001b[39;00m \u001b[38;5;21;01mplotly\u001b[39;00m\u001b[38;5;21;01m.\u001b[39;00m\u001b[38;5;21;01mexpress\u001b[39;00m \u001b[38;5;28;01mas\u001b[39;00m \u001b[38;5;21;01mpx\u001b[39;00m\n\u001b[0;32m      6\u001b[0m \u001b[38;5;28;01mdef\u001b[39;00m \u001b[38;5;21mexplore_data\u001b[39m(dataset, columns):\n\u001b[0;32m      7\u001b[0m     df \u001b[38;5;241m=\u001b[39m pd\u001b[38;5;241m.\u001b[39mread_csv(dataset)\n",
      "\u001b[1;31mModuleNotFoundError\u001b[0m: No module named 'plotly'"
     ]
    }
   ],
   "source": [
    "# 高级交互组件运用\n",
    "import gradio as gr\n",
    "import pandas as pd\n",
    "import plotly.express as px\n",
    "\n",
    "def explore_data(dataset, columns):\n",
    "    df = pd.read_csv(dataset)\n",
    "    fig = px.scatter(df, x=columns[0], y=columns[1])\n",
    "    return fig\n",
    "\n",
    "demo = gr.Interface(\n",
    "    fn=explore_data,\n",
    "    inputs=[\n",
    "        gr.File(label=\"上传CSV文件\"),\n",
    "        gr.CheckboxGroup(choices=['Column1', 'Column2', 'Column3'], label=\"选择列\")\n",
    "    ],\n",
    "    outputs=gr.Plot()\n",
    ")\n",
    "demo.launch()"
   ]
  },
  {
   "cell_type": "code",
   "execution_count": 18,
   "id": "6b308150-29a3-42b2-8de6-41f85d633729",
   "metadata": {},
   "outputs": [
    {
     "name": "stdout",
     "output_type": "stream",
     "text": [
      "Running on local URL:  http://127.0.0.1:7872\n",
      "\n",
      "To create a public link, set `share=True` in `launch()`.\n"
     ]
    },
    {
     "data": {
      "text/html": [
       "<div><iframe src=\"http://127.0.0.1:7872/\" width=\"100%\" height=\"500\" allow=\"autoplay; camera; microphone; clipboard-read; clipboard-write;\" frameborder=\"0\" allowfullscreen></iframe></div>"
      ],
      "text/plain": [
       "<IPython.core.display.HTML object>"
      ]
     },
     "metadata": {},
     "output_type": "display_data"
    },
    {
     "data": {
      "text/plain": []
     },
     "execution_count": 18,
     "metadata": {},
     "output_type": "execute_result"
    }
   ],
   "source": [
    "# 状态管理技巧\n",
    "\"\"\"\n",
    "什么是状态管理：状态管理指的是在应用的生命周期内跟踪和更新用户界面的状态，如用户的输入、选择或界面的显示状态。\n",
    "状态的重要性：在复杂的交互过程中，状态管理允许应用“记住”用户之前的操作，这对于提供个性化体验和维护数据一致性至关重要。\n",
    "\"\"\"\n",
    "\"\"\"\n",
    "状态管理实践\n",
    "\n",
    "实现多步骤界面：利用状态管理来创建多步骤的用户界面，如分步表单或多阶段数据输入过程。\n",
    "* 示例：在用户完成第一步输入后，显示第二步的相关选项。\n",
    "保存用户会话数据：在用户与应用交互期间，保存用户的选择和输入，以便在后续步骤中使用。\n",
    "* 示例：保存用户在一个查询界面中的搜索历史，以便于后续快速访问。\n",
    "\"\"\"\n",
    "import gradio as gr\n",
    "\n",
    "def update_output(input_text, state_counter):\n",
    "    state_counter = state_counter or 0\n",
    "    return f\"您输入了：{input_text}\", state_counter + 1, state_counter + 1\n",
    "iface = gr.Interface(\n",
    "    fn=update_output,\n",
    "    inputs=[gr.Textbox(), gr.State()],\n",
    "    outputs=[gr.Textbox(), gr.Label(), gr.State()]\n",
    ")\n",
    "iface.launch()"
   ]
  },
  {
   "cell_type": "code",
   "execution_count": null,
   "id": "3e992900-7441-44e8-86e8-7b46320f4875",
   "metadata": {},
   "outputs": [],
   "source": [
    "# 性能优化\n",
    "\"\"\"\n",
    "优化数据处理\n",
    "\n",
    "高效的数据加载：对于需要加载大量数据的应用，考虑使用高效的数据存储和读取方法，如使用Pandas的高效文件读取函数。\n",
    "* 示例：使用pandas.read_csv()时，指定usecols参数只加载需要的列。\n",
    "数据预处理：在应用启动之前进行数据预处理，以减少实时处理的负担。\n",
    "* 示例：在应用启动前，对数据进行清洗、筛选和预计算。\n",
    "优化模型使用\n",
    "\n",
    "模型加载策略：如果使用机器学习模型，考虑在应用启动时预加载模型，避免每次请求时重新加载。\n",
    "* 示例：在脚本的全局作用域中加载模型，而不是在处理函数内部。\n",
    "批处理和缓存：对于重复的请求，使用缓存来存储和复用结果，减少不必要的计算。\n",
    "* 示例：使用缓存装饰器或字典来存储已处理的请求。\n",
    "界面优化\n",
    "\n",
    "简化界面元素：避免在界面上使用过多复杂的组件，这可能导致加载时间增加和性能下降。\n",
    "* 示例：仅保留核心的输入输出组件，移除不必要的装饰和复杂布局。\n",
    "异步操作：对于耗时的操作，考虑使用异步处理，以防止界面卡顿。\n",
    "* 示例：在处理函数中使用异步库或线程处理耗时任务。\n",
    "性能监控\n",
    "\n",
    "监控应用性能：使用性能监控工具来跟踪应用的响应时间和资源消耗。\n",
    "* 示例：使用Python的time或cProfile模块来监控函数执行时间。\n",
    "响应时间优化：根据性能数据优化慢速的操作或瓶颈。\n",
    "* 示例：优化数据处理流程，或替换效率低下的算法。\n",
    "\"\"\""
   ]
  },
  {
   "cell_type": "code",
   "execution_count": null,
   "id": "773cfa21-80a6-457f-9d2e-4ade60225e07",
   "metadata": {},
   "outputs": [],
   "source": [
    "import gradio as gr\n",
    "import pandas as pd\n",
    "import time\n",
    "\n",
    "# 预处理数据\n",
    "data = pd.read_csv(\"large_dataset.csv\").preprocess()\n",
    "\n",
    "def analyze_data(filter_option):\n",
    "    start_time = time.time()\n",
    "    filtered_data = data[data[\"column\"] == filter_option]\n",
    "    analysis = filtered_data.compute_statistics()\n",
    "    # 时间监控\n",
    "    execution_time = time.time() - start_time\n",
    "    return analysis, f\"处理时间: {execution_time:.2f}秒\"\n",
    "\n",
    "iface = gr.Interface(\n",
    "    fn=analyze_data,\n",
    "    inputs=gr.Dropdown([\"选项1\", \"选项2\", \"选项3\"]),\n",
    "    outputs=[\"text\", \"text\"]\n",
    ")\n",
    "iface.launch()"
   ]
  },
  {
   "cell_type": "code",
   "execution_count": null,
   "id": "d41a065b-5970-4ba1-b4b9-07651f928d2d",
   "metadata": {},
   "outputs": [],
   "source": [
    "# 5 实战一下\n"
   ]
  }
 ],
 "metadata": {
  "kernelspec": {
   "display_name": "Python 3 (ipykernel)",
   "language": "python",
   "name": "python3"
  },
  "language_info": {
   "codemirror_mode": {
    "name": "ipython",
    "version": 3
   },
   "file_extension": ".py",
   "mimetype": "text/x-python",
   "name": "python",
   "nbconvert_exporter": "python",
   "pygments_lexer": "ipython3",
   "version": "3.9.12"
  }
 },
 "nbformat": 4,
 "nbformat_minor": 5
}
